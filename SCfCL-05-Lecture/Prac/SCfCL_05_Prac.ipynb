{
  "nbformat": 4,
  "nbformat_minor": 0,
  "metadata": {
    "colab": {
      "provenance": []
    },
    "kernelspec": {
      "name": "python3",
      "display_name": "Python 3"
    },
    "language_info": {
      "name": "python"
    }
  },
  "cells": [
    {
      "cell_type": "markdown",
      "source": [
        "# コンピュータリテラシ発展 第5回 課題\n",
        "\n",
        "今回の課題は**OpenPyXLを使ってExcelファイルの編集に関する**問題が3問あります．"
      ],
      "metadata": {
        "id": "8qZfGQT4EuLM"
      }
    },
    {
      "cell_type": "markdown",
      "source": [
        "## 注意事項\n",
        "\n",
        "Excelを作成してそのExcelファイルを編集します．\n",
        "そのため，**問題ごとに保存するファイル名を変更してください**．\n",
        "提出は，**ipynbと各問題で保存したExcelファイル（計4ファイル）**を提出してください．\n",
        "\n",
        "また，このノートブック（SCfCL_05_Prac.ipynb）とエクセルファイルは同じフォルダ内あることが望ましいです．\n",
        "そのため，Google Drive上の授業用フォルダを利用してください．"
      ],
      "metadata": {
        "id": "tIfC-YwmE1wP"
      }
    },
    {
      "cell_type": "markdown",
      "source": [
        "## ライブラリをインポート\n",
        "必要と思うライブラリやメソッドなどをインポートしてください．"
      ],
      "metadata": {
        "id": "SqGZqqvOonpU"
      }
    },
    {
      "cell_type": "code",
      "source": [],
      "metadata": {
        "id": "wPr-hUowogGZ"
      },
      "execution_count": null,
      "outputs": []
    },
    {
      "cell_type": "markdown",
      "source": [
        "## 問題1：Excelファイルの新規作成と値の挿入\n",
        "\n",
        "新規でExcelファイルを作成してA1から順に以下の表の値を入力するプログラムを作成してください．  \n",
        "表のフォーマット（罫線など）は無視してください．  \n",
        "作成するExcelファイル名は「*学籍番号*-**Prac-1.xlsx**」としてください．（例：**23B3xxx-Prac-1.xlsx**）\n",
        "\n",
        "|   | 名前       | 性別 | 年齢 | 部署 | 備考 |\n",
        "|---|------------|------|------|------|------|\n",
        "|1  | 大畑桂也   | 男性 | 20   | 営業 |      |\n",
        "|2  | 吉岡康男   | 男性 | 35   | 人事 |      |\n",
        "|3  | 大木冬雪   | 女性 | 24   | 経理 |      |\n",
        "|4  | 深田一夫   | 男性 | 49   | 経理 | 退職 |\n",
        "|5  | 平塚透     | 男性 | 52   | 総務 |      |\n",
        "|6  | 山岸雅子   | 女性 | 43   | 商品 |      |\n",
        "|7  | 大澤奈々   | 女性 | 29   | 人事 | 退職 |\n",
        "|8  | 小沢陸     | 男性 | 23   | 総務 |      |\n",
        "|9  | 高倉ひとみ | 女性 | 41   | 商品 | 退職 |\n",
        "|10 | 関本泰造   | 男性 | 20   | 営業 |      |\n",
        "\n",
        "実行例を以下に表示します．\n",
        "\n",
        "[![Image from Gyazo](https://i.gyazo.com/6ed1df047b527e54b2a353778ea0b7b0.png)](https://gyazo.com/6ed1df047b527e54b2a353778ea0b7b0)"
      ],
      "metadata": {
        "id": "UhFuNEeJHw78"
      }
    },
    {
      "cell_type": "code",
      "source": [],
      "metadata": {
        "id": "bFs8zE75H1sJ"
      },
      "execution_count": null,
      "outputs": []
    },
    {
      "cell_type": "markdown",
      "source": [
        "## 問題2：Excelファイルの編集\n",
        "\n",
        "問題1で作成したExcelを読み込んでください．\n",
        "以下の指示に従って編集をするプログラムを作成してください．\n",
        "\n",
        "- 1行目のフォントサイズを**14pt**, **太文字**に設定\n",
        "- A列のフォントを**12pt**に設定\n",
        "- B列の幅を**10**に設定\n",
        "- 「備考」に「退職」と書かれている行の「名前」と「部署」に**取り消し線（`strike`）**を入れる\n",
        "\n",
        "作成するExcelファイル名は「*学籍番号*-**Prac-2.xlsx**」としてください．（例：**23B3xxx-Prac-2.xlsx**）\n",
        "\n",
        "実行例を以下に表示します．\n",
        "\n",
        "[![Image from Gyazo](https://i.gyazo.com/5c1f5a626e895e0944a8f84ad75fb536.png)](https://gyazo.com/5c1f5a626e895e0944a8f84ad75fb536)"
      ],
      "metadata": {
        "id": "SBHSm4ORH66A"
      }
    },
    {
      "cell_type": "code",
      "source": [],
      "metadata": {
        "id": "iMign_KuH-UR"
      },
      "execution_count": null,
      "outputs": []
    },
    {
      "cell_type": "markdown",
      "source": [
        "## 問題3：Excelのレイアウトを編集\n",
        "\n",
        "問題2で作成したExcelファイルを読み込んでください．以下の指示に従ってレイアウトの編集をするプログラムを作成してください．\n",
        "\n",
        "- 1行目とA列を**固定表示**に設定\n",
        "- C,D列を**非表示**設定\n",
        "- 「備考」に「退職」と書かれている行を**非表示**設定\n",
        "\n",
        "作成するExcelファイル名は「*学籍番号*-**Prac-3.xlsx**」としてください．（例：**23B3xxx-Prac-3.xlsx**）\n",
        "\n",
        "実行例を以下に表示します．\n",
        "\n",
        "[![Image from Gyazo](https://i.gyazo.com/b207bf8f3a3bf91b78bef6218d79dca7.png)](https://gyazo.com/b207bf8f3a3bf91b78bef6218d79dca7)"
      ],
      "metadata": {
        "id": "fET-7B9zH-bR"
      }
    }
  ]
}