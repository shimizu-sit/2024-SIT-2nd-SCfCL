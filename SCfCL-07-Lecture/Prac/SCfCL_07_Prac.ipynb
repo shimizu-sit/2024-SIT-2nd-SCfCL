{
  "nbformat": 4,
  "nbformat_minor": 0,
  "metadata": {
    "colab": {
      "provenance": []
    },
    "kernelspec": {
      "name": "python3",
      "display_name": "Python 3"
    },
    "language_info": {
      "name": "python"
    }
  },
  "cells": [
    {
      "cell_type": "markdown",
      "source": [
        "# コンピュータリテラシ発展 第7回 課題\n",
        "\n",
        "今回の課題は**フォルダやファイルの操作**の問題が4問です．"
      ],
      "metadata": {
        "id": "8qZfGQT4EuLM"
      }
    },
    {
      "cell_type": "markdown",
      "source": [
        "## 注意事項\n",
        "\n",
        "このノートブックは，授業用に作成したフォルダを利用してください．\n",
        "\n",
        "`/content/drive/MyDrive/???`\n",
        "\n",
        "課題内で「作業場所」という言葉が出てきます．それは授業用に作成したフォルダのことです．"
      ],
      "metadata": {
        "id": "tIfC-YwmE1wP"
      }
    },
    {
      "cell_type": "markdown",
      "source": [
        "## ライブラリをインポート\n",
        "各自必要と思うライブラリやメソッドなどをインポートしてください．"
      ],
      "metadata": {
        "id": "SqGZqqvOonpU"
      }
    },
    {
      "cell_type": "code",
      "source": [],
      "metadata": {
        "id": "wPr-hUowogGZ"
      },
      "execution_count": null,
      "outputs": []
    },
    {
      "cell_type": "markdown",
      "source": [
        "## 問題1：ファイルの作成\n",
        "\n",
        "作業場所に「**Prac07.txt**」という名前の新しいファイルを作成し，「**コンピュータリテラシ発展 課題07 問題1**」と書き込んでください．\n"
      ],
      "metadata": {
        "id": "UhFuNEeJHw78"
      }
    },
    {
      "cell_type": "code",
      "source": [],
      "metadata": {
        "id": "bFs8zE75H1sJ"
      },
      "execution_count": null,
      "outputs": []
    },
    {
      "cell_type": "markdown",
      "source": [
        "## 問題2：フォルダの作成と移動\n",
        "\n",
        "作業場所に「**Prac07**」という名前の新しいフォルダを作成してください．  \n",
        "問題1で作成したファイルをこのフォルダに移動してください．"
      ],
      "metadata": {
        "id": "SBHSm4ORH66A"
      }
    },
    {
      "cell_type": "code",
      "source": [],
      "metadata": {
        "id": "iMign_KuH-UR"
      },
      "execution_count": null,
      "outputs": []
    },
    {
      "cell_type": "markdown",
      "source": [
        "## 問題3：フォルダのコピー\n",
        "\n",
        "問題2で作成したフォルダをコピーして「**Prac07-copy**」としてください．\n"
      ],
      "metadata": {
        "id": "fET-7B9zH-bR"
      }
    },
    {
      "cell_type": "code",
      "source": [],
      "metadata": {
        "id": "qjcMj-WAILfI"
      },
      "execution_count": null,
      "outputs": []
    },
    {
      "cell_type": "markdown",
      "source": [
        "## 問題4：ファイル名の変更\n",
        "\n",
        "問題3でコピーしたフォルダ内にあるファイル名を「**Prac07-copy.txt**」としてください．\n"
      ],
      "metadata": {
        "id": "tv0fA6ilRzWf"
      }
    },
    {
      "cell_type": "code",
      "source": [],
      "metadata": {
        "id": "OEgx49gdSBMe"
      },
      "execution_count": null,
      "outputs": []
    }
  ]
}