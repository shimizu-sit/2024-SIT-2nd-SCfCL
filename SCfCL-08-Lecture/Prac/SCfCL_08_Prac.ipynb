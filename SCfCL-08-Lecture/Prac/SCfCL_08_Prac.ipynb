{
  "nbformat": 4,
  "nbformat_minor": 0,
  "metadata": {
    "colab": {
      "provenance": []
    },
    "kernelspec": {
      "name": "python3",
      "display_name": "Python 3"
    },
    "language_info": {
      "name": "python"
    }
  },
  "cells": [
    {
      "cell_type": "markdown",
      "source": [
        "# コンピュータリテラシ発展 第8回 課題\n",
        "\n",
        "今回の課題は**文字列操作とCSVデータの処理**の問題が6問です．"
      ],
      "metadata": {
        "id": "8qZfGQT4EuLM"
      }
    },
    {
      "cell_type": "markdown",
      "source": [
        "## 注意事項\n",
        "\n",
        "このノートブックは，授業用に作成したフォルダを利用してください．\n",
        "\n",
        "`/content/drive/MyDrive/???`\n",
        "\n",
        "課題内で「作業場所」という言葉が出てきます．これは授業用に作成したフォルダのことです．"
      ],
      "metadata": {
        "id": "tIfC-YwmE1wP"
      }
    },
    {
      "cell_type": "markdown",
      "source": [
        "## ライブラリをインポート\n",
        "各自必要と思うライブラリなどをインポートしてください．"
      ],
      "metadata": {
        "id": "SqGZqqvOonpU"
      }
    },
    {
      "cell_type": "code",
      "source": [],
      "metadata": {
        "id": "wPr-hUowogGZ"
      },
      "execution_count": null,
      "outputs": []
    },
    {
      "cell_type": "markdown",
      "source": [
        "## 問題1：（準備）フォルダとファイルの作成\n",
        "\n",
        "作業場所に「**Prac08**」という名前の新しいフォルダを作成してください．  \n",
        "作成したフォルダ内に「**Prac08-1.txt**」ファイルを作成してください．  \n",
        "「**Prac08-1.txt**」の内容は次のテキストを入れてください．\n",
        "\n",
        "```\n",
        "高度情報化社会の根底をなすコンピュータ技術と、それを応用した情報システムのプロフェッショナルなエンジニア育成を目指している。\n",
        "```\n"
      ],
      "metadata": {
        "id": "UhFuNEeJHw78"
      }
    },
    {
      "cell_type": "code",
      "source": [],
      "metadata": {
        "id": "bFs8zE75H1sJ"
      },
      "execution_count": null,
      "outputs": []
    },
    {
      "cell_type": "markdown",
      "source": [
        "## 問題2：find()メソッド\n",
        "\n",
        "問題1で作成したファイル「**Prac08-1.txt**」を読み込み「情報」という文字列の有無と開始位置を検索してください．"
      ],
      "metadata": {
        "id": "SBHSm4ORH66A"
      }
    },
    {
      "cell_type": "code",
      "source": [],
      "metadata": {
        "id": "iMign_KuH-UR"
      },
      "execution_count": null,
      "outputs": []
    },
    {
      "cell_type": "markdown",
      "source": [
        "## 問題3：（準備）ファイルの作成\n",
        "\n",
        "「**Prac08**」フォルダに新しく「**Prac08-2.txt**」ファイルを作成してください．  \n",
        "「**Prac08-2.txt**」の内容は次のテキストを入れてください．\n",
        "\n",
        "```\n",
        "大学入試・キャンパス見学に関すること\n",
        "窓口：入試課（本館1F）\n",
        "住所：〒251-8511 神奈川県藤沢市辻堂西海岸1-1-25\n",
        "電話：0466-30-1234\n",
        "E-mail：nyushika@center.shonan-it.ac.jp\n",
        "\n",
        "大学院入試に関すること\n",
        "窓口：入試課（本館1F）\n",
        "住所：〒251-8511 神奈川県藤沢市辻堂西海岸1-1-25\n",
        "電話：0466-30-5678\n",
        "E-mail：ny-daigakuin@center.shonan-it.ac.jp\n",
        "\n",
        "学費に関すること\n",
        "窓口：事務課（本館1F）\n",
        "住所：〒251-8511 神奈川県藤沢市辻堂西海岸1-1-25\n",
        "電話：0466-30-9012\n",
        "E-mail：syomuka@center.shonan-it.ac.jp\n",
        "\n",
        "学生証・各種証明書の発行・奨学金に関すること\n",
        "窓口：学生課（本館1F）\n",
        "住所：〒251-8511 神奈川県藤沢市辻堂西海岸1-1-25\n",
        "電話：0466-30-3456\n",
        "E-mail：gakusei@center.shonan-it.ac.jp\n",
        "```\n"
      ],
      "metadata": {
        "id": "fET-7B9zH-bR"
      }
    },
    {
      "cell_type": "code",
      "source": [],
      "metadata": {
        "id": "qjcMj-WAILfI"
      },
      "execution_count": null,
      "outputs": []
    },
    {
      "cell_type": "markdown",
      "source": [
        "## 問題4：正規表現で検索と置換\n",
        "\n",
        "問題3で作成した「**Prac08-2.txt**」ファイルを読み込んで，**正規表現**を使って電話番号を検索してください．  \n",
        "電話番号に誤りがあるのですべて「0466-30-0271」に置換し，ファイル名を「**Prac08-3.txt**」として保存してください．"
      ],
      "metadata": {
        "id": "tv0fA6ilRzWf"
      }
    },
    {
      "cell_type": "code",
      "source": [],
      "metadata": {
        "id": "OEgx49gdSBMe"
      },
      "execution_count": null,
      "outputs": []
    },
    {
      "cell_type": "markdown",
      "source": [
        "## 問題5：CSVファイルの出力\n",
        "\n",
        "「**Prac08**」フォルダに新しく「**Prac08-4.csv**」ファイルを作成してください．  \n",
        "「**Prac08-4.csv**」ファイルの中身は次のようにしてください．\n",
        "\n",
        "**※アルファベットの順番に誤りがありますがそのままにしてください．**\n",
        "\n",
        "```\n",
        "A, B, C, D, E\n",
        "F, G, H, I, J\n",
        "K, L, N, M, O\n",
        "P, Q, R, S, T\n",
        "U, W, V, X, Y\n",
        "Z,\n",
        "```\n"
      ],
      "metadata": {
        "id": "CtBiiqggxaet"
      }
    },
    {
      "cell_type": "code",
      "source": [
        "ｙｙｙ"
      ],
      "metadata": {
        "id": "z6WtcFARyzVd"
      },
      "execution_count": null,
      "outputs": []
    },
    {
      "cell_type": "markdown",
      "source": [
        "## 問題6：CSVファイルの加工\n",
        "\n",
        "問題5で作成した「**Prac08-4.csv**」ファイルの中身には，アルファベットの順番に誤りがあります．  \n",
        "これを修正し，ファイル名を「**Prac08-5.csv**」として保存してください．\n"
      ],
      "metadata": {
        "id": "P88tVRvFy3o8"
      }
    },
    {
      "cell_type": "code",
      "source": [],
      "metadata": {
        "id": "IIXQOm9GzLGO"
      },
      "execution_count": null,
      "outputs": []
    }
  ]
}