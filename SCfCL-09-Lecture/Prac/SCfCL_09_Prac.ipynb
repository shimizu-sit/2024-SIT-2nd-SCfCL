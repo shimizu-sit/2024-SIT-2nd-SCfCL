{
  "nbformat": 4,
  "nbformat_minor": 0,
  "metadata": {
    "colab": {
      "provenance": []
    },
    "kernelspec": {
      "name": "python3",
      "display_name": "Python 3"
    },
    "language_info": {
      "name": "python"
    }
  },
  "cells": [
    {
      "cell_type": "markdown",
      "source": [
        "# コンピュータリテラシ発展 第9回 課題\n",
        "\n",
        "今回の課題は**Pandasの記法的な使い方**の問題が6問です．"
      ],
      "metadata": {
        "id": "8qZfGQT4EuLM"
      }
    },
    {
      "cell_type": "markdown",
      "source": [
        "## ライブラリをインポート\n",
        "各自必要と思うライブラリなどをインポートしてください．"
      ],
      "metadata": {
        "id": "SqGZqqvOonpU"
      }
    },
    {
      "cell_type": "code",
      "source": [],
      "metadata": {
        "id": "wPr-hUowogGZ"
      },
      "execution_count": null,
      "outputs": []
    },
    {
      "cell_type": "markdown",
      "source": [
        "## 問題1：DataFrameの作成\n",
        "\n",
        "pandasを用いて，以下のデータを持つDataFrameを作成してください．  \n",
        "名前の部分を `index`にしてください．\n",
        "\n",
        "|            | 性別 | 年齢 | 部署 | 備考 |\n",
        "|------------|------|------|------|------|\n",
        "| 大畑桂也   | 男性 | 20   | 営業 |      |\n",
        "| 吉岡康男   | 男性 | 35   | 人事 |      |\n",
        "| 大木冬雪   | 女性 | 24   | 経理 |      |\n",
        "| 深田一夫   | 男性 | 49   | 経理 | 退職 |\n",
        "| 平塚透     | 男性 | 52   | 総務 |      |\n",
        "| 山岸雅子   | 女性 | 43   | 商品 |      |\n",
        "| 大澤奈々   | 女性 | 29   | 人事 | 退職 |\n",
        "| 小沢陸     | 男性 | 23   | 総務 |      |\n",
        "| 高倉ひとみ | 女性 | 41   | 商品 | 退職 |\n",
        "| 関本泰造   | 男性 | 20   | 営業 |      |\n",
        "\n",
        "### 実行結果\n",
        "実行すると以下のように表示されます．\n",
        "\n",
        "![](https://github.com/shimizu-sit/2023-SIT-SCfCL/blob/main/10th-Lecture/Prac/SCfCL_10th_Prac-Problem1.png?raw=true)"
      ],
      "metadata": {
        "id": "SBHSm4ORH66A"
      }
    },
    {
      "cell_type": "code",
      "source": [],
      "metadata": {
        "id": "iMign_KuH-UR"
      },
      "execution_count": null,
      "outputs": []
    },
    {
      "cell_type": "markdown",
      "source": [
        "## 問題2：データの選択(loc属性)\n",
        "\n",
        "問題1で作成したDataFrameから，loc属性を使って以下の条件に合う行を選択して表示してください．  \n",
        "選択は直接指定してください．\n",
        "\n",
        "例：授業資料P.24\n",
        "```\n",
        "people.loc['北野']\n",
        "```\n",
        "\n",
        "**条件**\n",
        "- 男性\n",
        "- 経理\n"
      ],
      "metadata": {
        "id": "fET-7B9zH-bR"
      }
    },
    {
      "cell_type": "code",
      "source": [],
      "metadata": {
        "id": "qjcMj-WAILfI"
      },
      "execution_count": null,
      "outputs": []
    },
    {
      "cell_type": "markdown",
      "source": [
        "## 問題3：データの選択(iloc属性)\n",
        "\n",
        "問題1で作成したDataFrameから，iloc属性を使って以下の条件に合う行を選択して表示してください．  \n",
        "選択は直接指定してください．\n",
        "\n",
        "例：授業資料P.24\n",
        "```\n",
        "people.iloc[1]\n",
        "```\n",
        "\n",
        "**条件**\n",
        "- 女性\n",
        "- 人事\n"
      ],
      "metadata": {
        "id": "tv0fA6ilRzWf"
      }
    },
    {
      "cell_type": "code",
      "source": [],
      "metadata": {
        "id": "OEgx49gdSBMe"
      },
      "execution_count": null,
      "outputs": []
    },
    {
      "cell_type": "markdown",
      "source": [
        "## 問題4：データの選択(loc属性)\n",
        "\n",
        "問題1で作成したDataFrameから，loc属性を使って「山岸雅子」の「性別」と「部署」のみ表示してください．  "
      ],
      "metadata": {
        "id": "hAVYt0n0KefQ"
      }
    },
    {
      "cell_type": "code",
      "source": [],
      "metadata": {
        "id": "5gIg5COoLB0j"
      },
      "execution_count": null,
      "outputs": []
    },
    {
      "cell_type": "markdown",
      "source": [
        "## 問題5：データの選択(iloc属性)\n",
        "\n",
        "問題1で作成したDataFrameから，iloc属性を使って「吉岡康男」の「部署」のみ表示してください．  "
      ],
      "metadata": {
        "id": "ooJ3OKQGLGqN"
      }
    },
    {
      "cell_type": "code",
      "source": [],
      "metadata": {
        "id": "M6KJbzYILS90"
      },
      "execution_count": null,
      "outputs": []
    },
    {
      "cell_type": "markdown",
      "source": [
        "## 問題6：データの選択(iloc属性)\n",
        "\n",
        "問題1で作成したDataFrameから，iloc属性を使って「深田一夫」から「大澤奈々」までの「性別」と「部署」のみ表示してください．  "
      ],
      "metadata": {
        "id": "-8ygwZupLT7z"
      }
    },
    {
      "cell_type": "code",
      "source": [],
      "metadata": {
        "id": "XQVD41t3NVcA"
      },
      "execution_count": null,
      "outputs": []
    }
  ]
}