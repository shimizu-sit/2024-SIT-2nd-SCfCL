{
  "cells": [
    {
      "cell_type": "markdown",
      "metadata": {
        "id": "UhFuNEeJHw78"
      },
      "source": [
        "課題1：年齢を入力して，18歳未満なら「未成年」，18歳以上なら「成年」と出力するプログラムを書いてください．  \n",
        "条件：`if`文を使ってください．"
      ]
    },
    {
      "cell_type": "code",
      "execution_count": null,
      "metadata": {
        "id": "bFs8zE75H1sJ"
      },
      "outputs": [],
      "source": []
    },
    {
      "cell_type": "markdown",
      "metadata": {
        "id": "Phs5RhCjH2I8"
      },
      "source": [
        "課題2：2つの整数を入力して，それらの整数が等しい場合は「等しい」，異なる場合は「異なる」と出力するプログラムを書いてください．  \n",
        "条件：`if`文と**比較演算子**を使ってください．"
      ]
    },
    {
      "cell_type": "code",
      "execution_count": null,
      "metadata": {
        "id": "guAjgZmOH3s8"
      },
      "outputs": [],
      "source": []
    },
    {
      "cell_type": "markdown",
      "metadata": {
        "id": "ysctT0c6H34v"
      },
      "source": [
        "課題3：整数を入力して，その数値が偶数なら「偶数」，奇数なら「奇数」と出力するプログラムを書いてください．  \n",
        "条件：`if`文を使ってください．"
      ]
    },
    {
      "cell_type": "code",
      "execution_count": null,
      "metadata": {
        "id": "79e19z_AH6tZ"
      },
      "outputs": [],
      "source": []
    },
    {
      "cell_type": "markdown",
      "metadata": {
        "id": "SBHSm4ORH66A"
      },
      "source": [
        "課題4：1から7までの整数を入力して，それに対応する曜日を表示するプログラムを書いてください．例えば，1なら「月曜日」，2なら「火曜日」という具体的な表示が必要です．  \n",
        "条件：リスト型，タプル型，辞書型のいずれかを使ってください．"
      ]
    },
    {
      "cell_type": "code",
      "execution_count": null,
      "metadata": {
        "id": "iMign_KuH-UR"
      },
      "outputs": [],
      "source": []
    },
    {
      "cell_type": "markdown",
      "metadata": {
        "id": "fET-7B9zH-bR"
      },
      "source": [
        "課題5：点数を入力して，点数に応じて以下の評価を出力するプログラムを書いてください．  \n",
        "条件：リスト型，タプル型，辞書型のいずれかを使ってください．\n",
        "- 点数が90以上の場合: 「S」\n",
        "- 点数が80以上90未満の場合:「A」\n",
        "- 点数が70以上80未満の場合:「B」\n",
        "- 点数が60以上70未満の場合:「C」\n",
        "- 点数が60未満の場合:「D」\n"
      ]
    },
    {
      "cell_type": "code",
      "execution_count": null,
      "metadata": {
        "id": "qjcMj-WAILfI"
      },
      "outputs": [],
      "source": []
    }
  ],
  "metadata": {
    "colab": {
      "provenance": []
    },
    "kernelspec": {
      "display_name": "Python 3",
      "name": "python3"
    },
    "language_info": {
      "name": "python"
    }
  },
  "nbformat": 4,
  "nbformat_minor": 0
}
