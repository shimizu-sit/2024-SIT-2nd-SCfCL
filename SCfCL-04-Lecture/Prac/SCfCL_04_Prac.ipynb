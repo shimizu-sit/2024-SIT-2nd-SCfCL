{
  "cells": [
    {
      "cell_type": "markdown",
      "metadata": {
        "id": "8qZfGQT4EuLM"
      },
      "source": [
        "# コンピュータリテラシ発展 第4回 課題\n",
        "\n",
        "今回の課題は**OpenPyXLを使ってExcelファイルの値を表示する**問題が3問です．"
      ]
    },
    {
      "cell_type": "markdown",
      "metadata": {
        "id": "tIfC-YwmE1wP"
      },
      "source": [
        "## Excelの値を表示する問題\n",
        "\n",
        "課題に必要なエクセルファイル（[menberlist.xlsx](https://moodle2024.shonan-it.ac.jp/mod/folder/view.php?id=16313)）はMoodleに上がっていますので確認をしてください．  \n",
        "また，このノートブック（SCfCL-5th-Prac.ipynb）とエクセルファイルは同じフォルダ内においてください．\n",
        "そのため，授業中に作成したフォルダを利用してください．"
      ]
    },
    {
      "cell_type": "markdown",
      "metadata": {
        "id": "UhFuNEeJHw78"
      },
      "source": [
        "**問題1:** エクセルファイル「memberlist.xlsx」からシート「Sheet1」のセル「D3」の値を読み取り，それを表示してください．"
      ]
    },
    {
      "cell_type": "code",
      "execution_count": null,
      "metadata": {
        "id": "bFs8zE75H1sJ"
      },
      "outputs": [],
      "source": []
    },
    {
      "cell_type": "markdown",
      "metadata": {
        "id": "SBHSm4ORH66A"
      },
      "source": [
        "**問題2:** エクセルファイル「memberlist.xlsx」からシート「Sheet1」の6行目の値を読み取り，それを表示してください．"
      ]
    },
    {
      "cell_type": "code",
      "execution_count": null,
      "metadata": {
        "id": "iMign_KuH-UR"
      },
      "outputs": [],
      "source": []
    },
    {
      "cell_type": "markdown",
      "metadata": {
        "id": "fET-7B9zH-bR"
      },
      "source": [
        "**問題3:** エクセルファイル「memberlist.xlsx」からシート「Sheet1」の「男性」の人数をカウントして表示してください．"
      ]
    },
    {
      "cell_type": "code",
      "execution_count": null,
      "metadata": {
        "id": "qjcMj-WAILfI"
      },
      "outputs": [],
      "source": []
    }
  ],
  "metadata": {
    "colab": {
      "provenance": [],
      "toc_visible": true
    },
    "kernelspec": {
      "display_name": "Python 3",
      "name": "python3"
    },
    "language_info": {
      "name": "python"
    }
  },
  "nbformat": 4,
  "nbformat_minor": 0
}
