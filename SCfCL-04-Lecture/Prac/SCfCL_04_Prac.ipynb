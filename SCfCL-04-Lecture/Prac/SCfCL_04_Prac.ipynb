{
  "nbformat": 4,
  "nbformat_minor": 0,
  "metadata": {
    "colab": {
      "provenance": [],
      "toc_visible": true
    },
    "kernelspec": {
      "name": "python3",
      "display_name": "Python 3"
    },
    "language_info": {
      "name": "python"
    }
  },
  "cells": [
    {
      "cell_type": "markdown",
      "source": [
        "# コンピュータリテラシ発展 第4回 課題\n",
        "\n",
        "今回の課題は**OpenPyXLを使ってExcelファイルの値を表示する**問題が3問です．"
      ],
      "metadata": {
        "id": "8qZfGQT4EuLM"
      }
    },
    {
      "cell_type": "markdown",
      "source": [
        "## Excelの値を表示する問題\n",
        "\n",
        "課題に必要なエクセルファイル（[menberlist.xlsx](https://moodle2024.shonan-it.ac.jp/mod/folder/view.php?id=16313)）はMoodleに上がっていますので確認をしてください．  \n",
        "また，このノートブック（SCfCL-04-Prac.ipynb）とエクセルファイルは同じフォルダ内においてください．\n",
        "そのため，授業中に作成したフォルダを利用してください．"
      ],
      "metadata": {
        "id": "tIfC-YwmE1wP"
      }
    },
    {
      "cell_type": "markdown",
      "source": [
        "**問題1:** エクセルファイル「memberlist.xlsx」からシート「Sheet1」のセル「D3」の値を読み取り，それを表示してください．"
      ],
      "metadata": {
        "id": "UhFuNEeJHw78"
      }
    },
    {
      "cell_type": "code",
      "source": [],
      "metadata": {
        "id": "bFs8zE75H1sJ"
      },
      "execution_count": null,
      "outputs": []
    },
    {
      "cell_type": "markdown",
      "source": [
        "**問題2:** エクセルファイル「memberlist.xlsx」からシート「Sheet1」の6行目の値を読み取り，それを表示してください．"
      ],
      "metadata": {
        "id": "SBHSm4ORH66A"
      }
    },
    {
      "cell_type": "code",
      "source": [],
      "metadata": {
        "id": "iMign_KuH-UR"
      },
      "execution_count": null,
      "outputs": []
    },
    {
      "cell_type": "markdown",
      "source": [
        "**問題3:** エクセルファイル「memberlist.xlsx」からシート「Sheet1」の「男性」の人数をカウントして表示してください．"
      ],
      "metadata": {
        "id": "fET-7B9zH-bR"
      }
    },
    {
      "cell_type": "code",
      "source": [],
      "metadata": {
        "id": "qjcMj-WAILfI"
      },
      "execution_count": null,
      "outputs": []
    }
  ]
}