{
  "nbformat": 4,
  "nbformat_minor": 0,
  "metadata": {
    "colab": {
      "provenance": [],
      "toc_visible": true
    },
    "kernelspec": {
      "name": "python3",
      "display_name": "Python 3"
    },
    "language_info": {
      "name": "python"
    }
  },
  "cells": [
    {
      "cell_type": "markdown",
      "metadata": {
        "id": "8qZfGQT4EuLM"
      },
      "source": [
        "# コンピュータリテラシ発展 第6回 課題\n",
        "\n",
        "今回の課題は**OpenPyXLを使ってExcelファイルにグラフを作成する**問題が3問です．"
      ]
    },
    {
      "cell_type": "markdown",
      "metadata": {
        "id": "tIfC-YwmE1wP"
      },
      "source": [
        "## 注意事項\n",
        "\n",
        "Excelを作成してそのExcelファイルを編集します．\n",
        "そのため，**問題ごとに保存するファイル名を変更してください**．\n",
        "提出は，**ipynbと各問題で保存したExcelファイル（合計4ファイル）**を提出してください．\n",
        "\n",
        "このノートブックは，授業中に作成したフォルダを利用してください．"
      ]
    },
    {
      "cell_type": "markdown",
      "source": [
        "## OpenPyXLのバージョンを下げる\n",
        "授業内で実施したようにOpenPyXLのバージョンを下げる必要があります．  \n",
        "必ず一番最初に以下のセルを実行してください．"
      ],
      "metadata": {
        "id": "HZxqpUhSoebw"
      }
    },
    {
      "cell_type": "code",
      "source": [
        "!pip install openpyxl==3.1.3"
      ],
      "metadata": {
        "id": "E3UhRYL0oXq1"
      },
      "execution_count": null,
      "outputs": []
    },
    {
      "cell_type": "markdown",
      "metadata": {
        "id": "SqGZqqvOonpU"
      },
      "source": [
        "## ライブラリをインポート\n",
        "各自必要と思うライブラリやメソッドなどをインポートしてください．"
      ]
    },
    {
      "cell_type": "code",
      "execution_count": null,
      "metadata": {
        "id": "wPr-hUowogGZ"
      },
      "outputs": [],
      "source": []
    },
    {
      "cell_type": "markdown",
      "metadata": {
        "id": "UhFuNEeJHw78"
      },
      "source": [
        "## 問題1：世界の労働時間グラフ\n",
        "\n",
        "Moodleから「**workinghours.xlsx**」をダウンロードしてColabにアップしてください．\n",
        "以下の指示に従ってグラフを作成してください．\n",
        "- 元データ：C3〜C44\n",
        "- グラフの種類：棒グラフ\n",
        "- グラフタイトル：労働時間\n",
        "- 系列名：各国\n",
        "- グラフ貼り付け位置セル：E3\n",
        "\n",
        "### 実行結果例\n",
        "\n",
        "![](https://raw.githubusercontent.com/shimizu-sit/2024-SIT-2nd-SCfCL/refs/heads/main/SCfCL-06-Lecture/Prac/SCfCL-06-Prac-1-example.png)"
      ]
    },
    {
      "cell_type": "code",
      "execution_count": null,
      "metadata": {
        "id": "bFs8zE75H1sJ"
      },
      "outputs": [],
      "source": []
    },
    {
      "cell_type": "markdown",
      "metadata": {
        "id": "SBHSm4ORH66A"
      },
      "source": [
        "## 問題2：Excelファイルの作成とデータ準備\n",
        "\n",
        "新規にExcelファイルを作成してください．\n",
        "以下の指示に従ってExcelファイルにデータを作成してください．\n",
        "\n",
        "- B2セル：「角度」，C2セル「SIN」\n",
        "- B3セル〜B27セルに0〜360まで15刻みで数値入れる\n",
        "- C3セル〜C27セルにB3セル〜B27セルの値を受け取りSINの値を入力\n",
        "\n",
        "### 実行例\n",
        "\n",
        "![](https://raw.githubusercontent.com/shimizu-sit/2024-SIT-2nd-SCfCL/7bfd3340086f06869f558abd46a31044116abba4/SCfCL-06-Lecture/Prac/SCfCL-06-Prac-2-example.png)"
      ]
    },
    {
      "cell_type": "code",
      "execution_count": null,
      "metadata": {
        "id": "iMign_KuH-UR"
      },
      "outputs": [],
      "source": []
    },
    {
      "cell_type": "markdown",
      "metadata": {
        "id": "fET-7B9zH-bR"
      },
      "source": [
        "## 問題3：棒グラフでSINグラフを作成\n",
        "\n",
        "問題2で作成したExcelファイルを読み込んでください．以下の指示に従ってグラフを作成してください．\n",
        "\n",
        "- 元データ：セルC3〜C27\n",
        "- グラフの種類：棒グラフ\n",
        "- グラフタイトル：三角関数\n",
        "- 系列名：sin()\n",
        "- グラフ貼り付け位置セル：E3\n",
        "\n",
        "### 実行例\n",
        "\n",
        "![](https://raw.githubusercontent.com/shimizu-sit/2024-SIT-2nd-SCfCL/7bfd3340086f06869f558abd46a31044116abba4/SCfCL-06-Lecture/Prac/SCfCL-06-Prac-3-example.png)\n"
      ]
    }
  ]
}