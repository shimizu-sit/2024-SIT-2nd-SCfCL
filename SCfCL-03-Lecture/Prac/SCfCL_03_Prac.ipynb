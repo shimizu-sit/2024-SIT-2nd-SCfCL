{
  "nbformat": 4,
  "nbformat_minor": 0,
  "metadata": {
    "colab": {
      "provenance": [],
      "toc_visible": true
    },
    "kernelspec": {
      "name": "python3",
      "display_name": "Python 3"
    },
    "language_info": {
      "name": "python"
    }
  },
  "cells": [
    {
      "cell_type": "markdown",
      "source": [
        "# コンピュータリテラシ発展 第3回 課題\n",
        "\n",
        "今回の課題は**for文**，**while文**，**関数定義**，**モジュールのインポート**に関する問題を合計10問となっています．\n",
        "\n",
        "問題の最後には結果を表示してください．"
      ],
      "metadata": {
        "id": "obiaOXzZCbYE"
      }
    },
    {
      "cell_type": "markdown",
      "source": [
        "## 繰り返し（for文）に関する課題"
      ],
      "metadata": {
        "id": "eoAVgCwrGOlT"
      }
    },
    {
      "cell_type": "markdown",
      "source": [
        "**問題1:** 1から10までの整数をforループを使用して表示してください．"
      ],
      "metadata": {
        "id": "Cf3ILTEqGOlg"
      }
    },
    {
      "cell_type": "code",
      "source": [],
      "metadata": {
        "id": "ZDGAVLVWGOlg"
      },
      "execution_count": null,
      "outputs": []
    },
    {
      "cell_type": "markdown",
      "source": [
        "**問題2:** リスト `['cat', 'dog', 'rabbit', 'mouse']`の各要素をインデックスと共に表示してください．"
      ],
      "metadata": {
        "id": "pQJ2BYZgGOlh"
      }
    },
    {
      "cell_type": "code",
      "source": [],
      "metadata": {
        "id": "uX6lywXBGOlh"
      },
      "execution_count": null,
      "outputs": []
    },
    {
      "cell_type": "markdown",
      "source": [
        "## 繰り返し（while文）に関する課題"
      ],
      "metadata": {
        "id": "ed7gItB1ImxX"
      }
    },
    {
      "cell_type": "markdown",
      "source": [
        "**問題3:** 1から50までの整数をwhileループで表示し，5と7の最小公倍数が表示されたら表示を終了してください．"
      ],
      "metadata": {
        "id": "fgkb0FCEImxk"
      }
    },
    {
      "cell_type": "code",
      "source": [],
      "metadata": {
        "id": "LZnk3WhDImxk"
      },
      "execution_count": null,
      "outputs": []
    },
    {
      "cell_type": "markdown",
      "source": [
        "**問題4:** 1月から12月までの英語表記のリストを作成して，whileループで表示し，今月(10月)が表示されたら表示を終了してください．"
      ],
      "metadata": {
        "id": "FPlfSaOPImxk"
      }
    },
    {
      "cell_type": "code",
      "source": [],
      "metadata": {
        "id": "1z-ssz8XImxk"
      },
      "execution_count": null,
      "outputs": []
    },
    {
      "cell_type": "markdown",
      "source": [
        "## 関数定義に関する課題"
      ],
      "metadata": {
        "id": "tIfC-YwmE1wP"
      }
    },
    {
      "cell_type": "markdown",
      "source": [
        "**問題5:** 整数2つを引数として受け取り，その合計を返す `add` という名前の関数を定義してください．"
      ],
      "metadata": {
        "id": "UhFuNEeJHw78"
      }
    },
    {
      "cell_type": "code",
      "source": [],
      "metadata": {
        "id": "bFs8zE75H1sJ"
      },
      "execution_count": null,
      "outputs": []
    },
    {
      "cell_type": "markdown",
      "source": [
        "**問題6:** 整数のリストを引数として受け取り，その中の最大値を返す `find_max` という名前の関数を定義してください．"
      ],
      "metadata": {
        "id": "SBHSm4ORH66A"
      }
    },
    {
      "cell_type": "code",
      "source": [],
      "metadata": {
        "id": "iMign_KuH-UR"
      },
      "execution_count": null,
      "outputs": []
    },
    {
      "cell_type": "markdown",
      "source": [
        "**問題7:** 文字列と整数を引数として受け取り，その文字列を指定された回数だけ繰り返す `repeat_string` という名前の関数を定義してください．"
      ],
      "metadata": {
        "id": "fET-7B9zH-bR"
      }
    },
    {
      "cell_type": "code",
      "source": [],
      "metadata": {
        "id": "qjcMj-WAILfI"
      },
      "execution_count": null,
      "outputs": []
    },
    {
      "cell_type": "markdown",
      "source": [
        "## モジュールのインポートに関する課題"
      ],
      "metadata": {
        "id": "SDBlzpZ8KWsF"
      }
    },
    {
      "cell_type": "markdown",
      "source": [
        "**問題8:** `datetime` モジュールをインポートし，現在の日付と時刻を表示してください．"
      ],
      "metadata": {
        "id": "mzsbS0trKi1I"
      }
    },
    {
      "cell_type": "code",
      "source": [],
      "metadata": {
        "id": "Y4wMCkCcKi1I"
      },
      "execution_count": null,
      "outputs": []
    },
    {
      "cell_type": "markdown",
      "source": [
        "**問題9:** Pythonの標準モジュールである `math` をインポートし，円周率πの値を表示してください．"
      ],
      "metadata": {
        "id": "U2CRl2LUKi1J"
      }
    },
    {
      "cell_type": "code",
      "source": [],
      "metadata": {
        "id": "RicgOWKtKi1J"
      },
      "execution_count": null,
      "outputs": []
    },
    {
      "cell_type": "markdown",
      "source": [
        "**問題10:** `random` モジュールをインポートし，1から10までのランダムな整数を10回生成して表示してください．"
      ],
      "metadata": {
        "id": "gZLM1QfCKi1J"
      }
    },
    {
      "cell_type": "code",
      "source": [],
      "metadata": {
        "id": "LunB0pMjKi1J"
      },
      "execution_count": null,
      "outputs": []
    }
  ]
}